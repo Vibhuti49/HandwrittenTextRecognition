{
 "cells": [
  {
   "cell_type": "code",
   "execution_count": 44,
   "metadata": {},
   "outputs": [],
   "source": [
    "import numpy as np\n",
    "import cv2\n",
    "import os\n",
    "import pandas as pd\n",
    "import string\n",
    "import matplotlib.pyplot as plt\n",
    "\n",
    "from keras.preprocessing.sequence import pad_sequences\n",
    "\n",
    "from keras.layers import Dense, LSTM, Reshape, BatchNormalization, Input, Conv2D, MaxPool2D, Lambda, Bidirectional\n",
    "from keras.models import Model\n",
    "from keras.activations import relu, sigmoid, softmax\n",
    "import keras.backend as K\n",
    "from keras.utils import to_categorical\n",
    "from keras.callbacks import ModelCheckpoint\n",
    "from keras_tqdm import TQDMNotebookCallback\n",
    "\n",
    "from sklearn.model_selection import train_test_split\n",
    "from sklearn.preprocessing import MinMaxScaler"
   ]
  },
  {
   "cell_type": "code",
   "execution_count": 45,
   "metadata": {},
   "outputs": [],
   "source": [
    "import tensorflow as tf\n",
    "\n",
    "#ignore warnings in the output\n",
    "tf.compat.v1.logging.set_verbosity(tf.compat.v1.logging.ERROR)"
   ]
  },
  {
   "cell_type": "code",
   "execution_count": 46,
   "metadata": {},
   "outputs": [
    {
     "name": "stdout",
     "output_type": "stream",
     "text": [
      "[name: \"/device:CPU:0\"\n",
      "device_type: \"CPU\"\n",
      "memory_limit: 268435456\n",
      "locality {\n",
      "}\n",
      "incarnation: 3297355634958012277\n",
      "]\n"
     ]
    }
   ],
   "source": [
    "from tensorflow.python.client import device_lib\n",
    "\n",
    "# Check all available devices if GPU is available\n",
    "print(device_lib.list_local_devices())\n",
    "sess = tf.compat.v1.Session(config=tf.compat.v1.ConfigProto(log_device_placement=True))"
   ]
  },
  {
   "cell_type": "code",
   "execution_count": 47,
   "metadata": {},
   "outputs": [
    {
     "data": {
      "text/plain": [
       "'a01-000x-05-01 ok 173 679 1637 65 131 IN for'"
      ]
     },
     "execution_count": 47,
     "metadata": {},
     "output_type": "execute_result"
    }
   ],
   "source": [
    "with open('C:\\\\Users\\\\vibhu\\OneDrive\\\\Desktop\\\\Handwritten-Text-Recognition-master\\\\parser\\\\words.txt') as f:\n",
    "    contents = f.readlines()\n",
    "\n",
    "lines = [line.strip() for line in contents] \n",
    "lines[100]"
   ]
  },
  {
   "cell_type": "code",
   "execution_count": 48,
   "metadata": {},
   "outputs": [
    {
     "name": "stdout",
     "output_type": "stream",
     "text": [
      "!\"#&'()*+,-./0123456789:;?ABCDEFGHIJKLMNOPQRSTUVWXYZabcdefghijklmnopqrstuvwxyz 78\n"
     ]
    }
   ],
   "source": [
    "max_label_len = 0\n",
    "\n",
    "char_list = \"!\\\"#&'()*+,-./0123456789:;?ABCDEFGHIJKLMNOPQRSTUVWXYZabcdefghijklmnopqrstuvwxyz\" \n",
    "\n",
    "# string.ascii_letters + string.digits (Chars & Digits)\n",
    "# or \n",
    "# \"!\\\"#&'()*+,-./0123456789:;?ABCDEFGHIJKLMNOPQRSTUVWXYZabcdefghijklmnopqrstuvwxyz\"\n",
    "\n",
    "print(char_list, len(char_list))\n",
    "\n",
    "def encode_to_labels(txt):\n",
    "    # encoding each output word into digits\n",
    "    dig_lst = []\n",
    "    for index, chara in enumerate(txt):\n",
    "        dig_lst.append(char_list.index(chara))\n",
    "        \n",
    "    return dig_lst"
   ]
  },
  {
   "cell_type": "code",
   "execution_count": 49,
   "metadata": {},
   "outputs": [],
   "source": [
    "images = []\n",
    "labels = []\n",
    "\n",
    "RECORDS_COUNT = 10000"
   ]
  },
  {
   "cell_type": "code",
   "execution_count": 50,
   "metadata": {},
   "outputs": [],
   "source": [
    "train_images = []\n",
    "train_labels = []\n",
    "train_input_length = []\n",
    "train_label_length = []\n",
    "train_original_text = []\n",
    "\n",
    "valid_images = []\n",
    "valid_labels = []\n",
    "valid_input_length = []\n",
    "valid_label_length = []\n",
    "valid_original_text = []\n",
    "\n",
    "inputs_length = []\n",
    "labels_length = []"
   ]
  },
  {
   "cell_type": "code",
   "execution_count": 51,
   "metadata": {},
   "outputs": [],
   "source": [
    "#Deslanting the image\n",
    "import cv2\n",
    "import numpy as np\n",
    "from collections import deque\n",
    "class RotateAndDeslantImage:\n",
    "    def __init__(self):\n",
    "        pass\n",
    "    def rotate_image(self, im):\n",
    "        coords = np.column_stack(np.where(im == 0))\n",
    "        angle = cv2.minAreaRect(coords)[-1]\n",
    "        if angle < -45:\n",
    "            angle = -(90 + angle)\n",
    "        else:\n",
    "            angle = -angle\n",
    "        (h, w) = im.shape[:2]\n",
    "        center = (w // 2, h // 2)\n",
    "        m = cv2.getRotationMatrix2D(center, angle, 1.0)\n",
    "        rotated = cv2.warpAffine(im, m, (w, h), flags=cv2.INTER_CUBIC, borderMode=cv2.BORDER_REPLICATE)\n",
    "        return rotated\n",
    "    def find_maxima(self, im_, row_start_idx, col_start_idx, col_stop_idx):\n",
    "        li = im_[row_start_idx - 1, col_start_idx - 4:col_stop_idx + 4]\n",
    "        next_li = [i for i in range(len(li)) if li[i] != 1]\n",
    "        if not next_li:\n",
    "            return row_start_idx, col_start_idx\n",
    "        row_start_idx, col_start_idx = self.find_maxima(im_, row_start_idx - 1, col_start_idx - 2 + next_li[0],\n",
    "                                           col_start_idx - 2 + next_li[-1])\n",
    "        return row_start_idx, col_start_idx\n",
    "    def deslant_image(self, im, pad_size=25):\n",
    "        process = True\n",
    "        p_img = None\n",
    "        im = cv2.copyMakeBorder(im, 0, 0, pad_size, pad_size, cv2.BORDER_CONSTANT, value=1)\n",
    "        # start checking for written text after skipping the padded size\n",
    "        im_ = np.array(im, dtype=np.float64)\n",
    "        col_start_idx = pad_size\n",
    "        row_start_idx = im_[:, pad_size].tolist().index(0)\n",
    "        li = im_[row_start_idx, pad_size:]\n",
    "        total_cols = 0\n",
    "        for i in range(len(li)):\n",
    "            if li[i] != 0.0:\n",
    "                total_cols = i\n",
    "                break\n",
    "        # calculate first maxima of black points so as to get second point of the slope line\n",
    "        y2, x2 = self.find_maxima(im_, row_start_idx, col_start_idx, col_start_idx + total_cols)\n",
    "        # x1, y1, are the first point of the slope line and x2, y2 are the second points\n",
    "        x1, y1 = 0, im_[:, pad_size].tolist().index(0)\n",
    "        c = im_[:, pad_size].tolist().index(0)\n",
    "        m = 0\n",
    "        if y2 - y1 != 0:\n",
    "            m = (x2 - x1) / (y2 - y1)\n",
    "        else:\n",
    "            process = False\n",
    "            p_img = im_\n",
    "        y = []\n",
    "        # if a slope is detected then shift the pixels in the image to make it straight otherwise pass this step\n",
    "        if process:\n",
    "            for i in range(im_.shape[0]):\n",
    "                y.append((((i * m) + c), i))\n",
    "            processed = []\n",
    "            for i in zip(im_, y):\n",
    "                li = deque(i[0])\n",
    "                count = int(i[1][0])\n",
    "                if count > 0:\n",
    "                    while count != 0:\n",
    "                        li.popleft()\n",
    "                        count -= 1\n",
    "                    li = np.array(li)\n",
    "                    li = np.lib.pad(li, (0, i[0].shape[0] - len(li)), 'maximum', )\n",
    "                else:\n",
    "                    count = abs(count)\n",
    "                    while count != 0:\n",
    "                        li.pop()\n",
    "                        count -= 1\n",
    "                    li = np.array(li)\n",
    "                    li = np.lib.pad(li, (i[0].shape[0] - len(li), 0), 'maximum', )\n",
    "                processed.append(li)\n",
    "            p_img = np.array(processed)\n",
    "        return p_img\n",
    "    \n",
    "def process_image(img):\n",
    "    #DESLANT THE IMAGE (SKEW CORRECTION)\n",
    "    #p = RotateAndDeslantImage()\n",
    "    #img = p.deslant_image(img)\n",
    "    \n",
    "    \"\"\"\n",
    "    Converts image to shape (32, 128, 1) & normalize\n",
    "    \"\"\"\n",
    "    w, h = img.shape\n",
    "    new_w = 32\n",
    "    new_h = int(h * (new_w / w))\n",
    "    img = cv2.resize(img, (new_h, new_w))\n",
    "    w, h = img.shape\n",
    "    \n",
    "    img = img.astype('float32')\n",
    "    \n",
    "    # Converts each to (32, 128, 1)\n",
    "    if w < 32:\n",
    "        add_zeros = np.full((32-w, h), 255)\n",
    "        img = np.concatenate((img, add_zeros))\n",
    "        w, h = img.shape\n",
    "    \n",
    "    if h < 128:\n",
    "        add_zeros = np.full((w, 128-h), 255)\n",
    "        img = np.concatenate((img, add_zeros), axis=1)\n",
    "        w, h = img.shape\n",
    "        \n",
    "    if h > 128 or w > 32:\n",
    "        dim = (128,32)\n",
    "        img = cv2.resize(img, dim)\n",
    "    \n",
    "    img = cv2.subtract(255, img)\n",
    "    \n",
    "    img = np.expand_dims(img, axis=2)\n",
    "    \n",
    "    # Normalize \n",
    "    img = img / 255\n",
    "    return img"
   ]
  },
  {
   "cell_type": "code",
   "execution_count": 52,
   "metadata": {},
   "outputs": [],
   "source": [
    "for index, line in enumerate(lines):\n",
    "    splits = line.split(' ')\n",
    "    status = splits[1]\n",
    "    \n",
    "    if status == 'ok':\n",
    "        word_id = splits[0]\n",
    "        word = \"\".join(splits[8:])\n",
    "        \n",
    "        splits_id = word_id.split('-')\n",
    "        filepath = 'C:\\\\Users\\\\vibhu\\\\OneDrive\\\\Desktop\\\\TCS ion\\\\data\\\\words\\\\{}\\\\{}-{}\\\\{}.png'.format(splits_id[0], \n",
    "                                                  splits_id[0], \n",
    "                                                  splits_id[1], \n",
    "                                                  word_id)\n",
    "        \n",
    "        # process image\n",
    "        img = cv2.imread(filepath, cv2.IMREAD_GRAYSCALE)\n",
    "        try:\n",
    "            img = process_image(img)\n",
    "        except:\n",
    "            continue\n",
    "            \n",
    "        # process label\n",
    "        try:\n",
    "            label = encode_to_labels(word)\n",
    "        except:\n",
    "            continue\n",
    "        \n",
    "        if index % 10 == 0:\n",
    "            valid_images.append(img)\n",
    "            valid_labels.append(label)\n",
    "            valid_input_length.append(31)\n",
    "            valid_label_length.append(len(word))\n",
    "            valid_original_text.append(word)\n",
    "        else:\n",
    "            train_images.append(img)\n",
    "            train_labels.append(label)\n",
    "            train_input_length.append(31)\n",
    "            train_label_length.append(len(word))\n",
    "            train_original_text.append(word)\n",
    "        \n",
    "        if len(word) > max_label_len:\n",
    "            max_label_len = len(word)\n",
    "    \n",
    "    if index >= RECORDS_COUNT:\n",
    "        break"
   ]
  },
  {
   "cell_type": "code",
   "execution_count": 53,
   "metadata": {},
   "outputs": [],
   "source": [
    "\n",
    "train_padded_label = pad_sequences(train_labels, \n",
    "                             maxlen=max_label_len, \n",
    "                             padding='post',\n",
    "                             value=len(char_list))\n",
    "\n",
    "valid_padded_label = pad_sequences(valid_labels, \n",
    "                             maxlen=max_label_len, \n",
    "                             padding='post',\n",
    "                             value=len(char_list))"
   ]
  },
  {
   "cell_type": "code",
   "execution_count": 54,
   "metadata": {},
   "outputs": [
    {
     "data": {
      "text/plain": [
       "((7850, 16), (876, 16))"
      ]
     },
     "execution_count": 54,
     "metadata": {},
     "output_type": "execute_result"
    }
   ],
   "source": [
    "train_padded_label.shape, valid_padded_label.shape"
   ]
  },
  {
   "cell_type": "code",
   "execution_count": 55,
   "metadata": {},
   "outputs": [],
   "source": [
    "\n",
    "train_images = np.asarray(train_images)\n",
    "train_input_length = np.asarray(train_input_length)\n",
    "train_label_length = np.asarray(train_label_length)\n",
    "\n",
    "valid_images = np.asarray(valid_images)\n",
    "valid_input_length = np.asarray(valid_input_length)\n",
    "valid_label_length = np.asarray(valid_label_length)"
   ]
  },
  {
   "cell_type": "code",
   "execution_count": 56,
   "metadata": {},
   "outputs": [
    {
     "data": {
      "text/plain": [
       "(7850, 32, 128, 1)"
      ]
     },
     "execution_count": 56,
     "metadata": {},
     "output_type": "execute_result"
    }
   ],
   "source": [
    "train_images.shape"
   ]
  },
  {
   "cell_type": "code",
   "execution_count": 57,
   "metadata": {},
   "outputs": [],
   "source": [
    "# input with shape of height=32 and width=128 \n",
    "inputs = Input(shape=(32,128,1))\n",
    " \n",
    "# convolution layer with kernel size (3,3)\n",
    "conv_1 = Conv2D(64, (3,3), activation = 'relu', padding='same')(inputs)\n",
    "pool_1 = MaxPool2D(pool_size=(2, 2), strides=2)(conv_1)\n",
    "conv_2 = Conv2D(128, (3,3), activation = 'relu', padding='same')(pool_1)\n",
    "pool_2 = MaxPool2D(pool_size=(2, 2), strides=2)(conv_2)\n",
    "conv_3 = Conv2D(256, (3,3), activation = 'relu', padding='same')(pool_2)\n",
    "pool_3 = MaxPool2D(pool_size=(2, 1))(conv_3)\n",
    "conv_4 = Conv2D(512, (3,3), activation = 'relu', padding='same')(pool_3)\n",
    "batch_norm_4 = BatchNormalization()(conv_4)\n",
    "pool_4 = MaxPool2D(pool_size=(2, 1))(batch_norm_4)\n",
    "conv_5 = Conv2D(512, (2,2), activation = 'relu')(pool_4)\n",
    "squeezed = Lambda(lambda x: K.squeeze(x, 1))(conv_5)\n",
    "# bidirectional LSTM layers with units=128\n",
    "blstm_1 = Bidirectional(LSTM(256, return_sequences=True, dropout = 0.2))(squeezed)\n",
    "blstm_2 = Bidirectional(LSTM(256, return_sequences=True, dropout = 0.2))(blstm_1)\n",
    "outputs = Dense(len(char_list)+1, activation = 'softmax')(blstm_2)\n",
    "# model to be used at test time\n",
    "act_model = Model(inputs, outputs)"
   ]
  },
  {
   "cell_type": "code",
   "execution_count": 58,
   "metadata": {},
   "outputs": [
    {
     "name": "stdout",
     "output_type": "stream",
     "text": [
      "_________________________________________________________________\n",
      "Layer (type)                 Output Shape              Param #   \n",
      "=================================================================\n",
      "input_2 (InputLayer)         (None, 32, 128, 1)        0         \n",
      "_________________________________________________________________\n",
      "conv2d_6 (Conv2D)            (None, 32, 128, 64)       640       \n",
      "_________________________________________________________________\n",
      "max_pooling2d_5 (MaxPooling2 (None, 16, 64, 64)        0         \n",
      "_________________________________________________________________\n",
      "conv2d_7 (Conv2D)            (None, 16, 64, 128)       73856     \n",
      "_________________________________________________________________\n",
      "max_pooling2d_6 (MaxPooling2 (None, 8, 32, 128)        0         \n",
      "_________________________________________________________________\n",
      "conv2d_8 (Conv2D)            (None, 8, 32, 256)        295168    \n",
      "_________________________________________________________________\n",
      "max_pooling2d_7 (MaxPooling2 (None, 4, 32, 256)        0         \n",
      "_________________________________________________________________\n",
      "conv2d_9 (Conv2D)            (None, 4, 32, 512)        1180160   \n",
      "_________________________________________________________________\n",
      "batch_normalization_2 (Batch (None, 4, 32, 512)        2048      \n",
      "_________________________________________________________________\n",
      "max_pooling2d_8 (MaxPooling2 (None, 2, 32, 512)        0         \n",
      "_________________________________________________________________\n",
      "conv2d_10 (Conv2D)           (None, 1, 31, 512)        1049088   \n",
      "_________________________________________________________________\n",
      "lambda_2 (Lambda)            (None, 31, 512)           0         \n",
      "_________________________________________________________________\n",
      "bidirectional_3 (Bidirection (None, 31, 512)           1574912   \n",
      "_________________________________________________________________\n",
      "bidirectional_4 (Bidirection (None, 31, 512)           1574912   \n",
      "_________________________________________________________________\n",
      "dense_2 (Dense)              (None, 31, 79)            40527     \n",
      "=================================================================\n",
      "Total params: 5,791,311\n",
      "Trainable params: 5,790,287\n",
      "Non-trainable params: 1,024\n",
      "_________________________________________________________________\n"
     ]
    }
   ],
   "source": [
    "act_model.summary()"
   ]
  },
  {
   "cell_type": "code",
   "execution_count": 59,
   "metadata": {},
   "outputs": [],
   "source": [
    "the_labels = Input(name='the_labels', shape=[max_label_len], dtype='float32')\n",
    "input_length = Input(name='input_length', shape=[1], dtype='int64')\n",
    "label_length = Input(name='label_length', shape=[1], dtype='int64')\n",
    "\n",
    "def ctc_lambda_func(args):\n",
    "    y_pred, labels, input_length, label_length = args\n",
    "    \n",
    "    return K.ctc_batch_cost(labels, y_pred, input_length, label_length)\n",
    "\n",
    "loss_out = Lambda(ctc_lambda_func, output_shape=(1,), name='ctc')([outputs, the_labels, input_length, label_length])\n",
    "\n",
    "#model to be used at training time\n",
    "model = Model(inputs=[inputs, the_labels, input_length, label_length], outputs=loss_out)"
   ]
  },
  {
   "cell_type": "code",
   "execution_count": 60,
   "metadata": {},
   "outputs": [],
   "source": [
    "batch_size = 8\n",
    "epochs = 30\n",
    "e = str(epochs)\n",
    "optimizer_name = 'sgd'"
   ]
  },
  {
   "cell_type": "code",
   "execution_count": 61,
   "metadata": {},
   "outputs": [],
   "source": [
    "model.compile(loss={'ctc': lambda y_true, y_pred: y_pred}, optimizer = optimizer_name, metrics=['accuracy'])\n",
    "\n",
    "filepath=\"{}o-{}r-{}e-{}t-{}v.hdf5\".format(optimizer_name,\n",
    "                                          str(RECORDS_COUNT),\n",
    "                                          str(epochs),\n",
    "                                          str(train_images.shape[0]),\n",
    "                                          str(valid_images.shape[0]))\n",
    "\n",
    "checkpoint = ModelCheckpoint(filepath=filepath, monitor='val_loss', verbose=1, save_best_only=True, mode='auto')\n",
    "callbacks_list = [checkpoint]"
   ]
  },
  {
   "cell_type": "code",
   "execution_count": 62,
   "metadata": {},
   "outputs": [
    {
     "name": "stdout",
     "output_type": "stream",
     "text": [
      "Train on 7850 samples, validate on 876 samples\n",
      "Epoch 1/30\n",
      " - 692s - loss: 15.9421 - acc: 0.0000e+00 - val_loss: 14.8750 - val_acc: 0.0000e+00\n",
      "\n",
      "Epoch 00001: val_loss improved from inf to 14.87498, saving model to sgdo-10000r-30e-7850t-876v.hdf5\n",
      "Epoch 2/30\n",
      " - 637s - loss: 13.7175 - acc: 0.0015 - val_loss: 13.3337 - val_acc: 0.0365\n",
      "\n",
      "Epoch 00002: val_loss improved from 14.87498 to 13.33373, saving model to sgdo-10000r-30e-7850t-876v.hdf5\n",
      "Epoch 3/30\n",
      " - 628s - loss: 12.0081 - acc: 0.0406 - val_loss: 14.2314 - val_acc: 0.0559\n",
      "\n",
      "Epoch 00003: val_loss did not improve from 13.33373\n",
      "Epoch 4/30\n",
      " - 625s - loss: 10.3420 - acc: 0.0670 - val_loss: 10.1171 - val_acc: 0.1130\n",
      "\n",
      "Epoch 00004: val_loss improved from 13.33373 to 10.11711, saving model to sgdo-10000r-30e-7850t-876v.hdf5\n",
      "Epoch 5/30\n",
      " - 629s - loss: 8.5963 - acc: 0.1036 - val_loss: 9.8496 - val_acc: 0.1301\n",
      "\n",
      "Epoch 00005: val_loss improved from 10.11711 to 9.84956, saving model to sgdo-10000r-30e-7850t-876v.hdf5\n",
      "Epoch 6/30\n",
      " - 728s - loss: 6.7245 - acc: 0.1604 - val_loss: 6.9495 - val_acc: 0.1838\n",
      "\n",
      "Epoch 00006: val_loss improved from 9.84956 to 6.94954, saving model to sgdo-10000r-30e-7850t-876v.hdf5\n",
      "Epoch 7/30\n",
      " - 595s - loss: 5.3106 - acc: 0.2195 - val_loss: 14.0441 - val_acc: 0.0879\n",
      "\n",
      "Epoch 00007: val_loss did not improve from 6.94954\n",
      "Epoch 8/30\n",
      " - 589s - loss: 4.3994 - acc: 0.2620 - val_loss: 4.5490 - val_acc: 0.2751\n",
      "\n",
      "Epoch 00008: val_loss improved from 6.94954 to 4.54901, saving model to sgdo-10000r-30e-7850t-876v.hdf5\n",
      "Epoch 9/30\n",
      " - 588s - loss: 3.6125 - acc: 0.3068 - val_loss: 9.0533 - val_acc: 0.1861\n",
      "\n",
      "Epoch 00009: val_loss did not improve from 4.54901\n",
      "Epoch 10/30\n",
      " - 589s - loss: 2.9721 - acc: 0.3488 - val_loss: 5.0804 - val_acc: 0.3025\n",
      "\n",
      "Epoch 00010: val_loss did not improve from 4.54901\n",
      "Epoch 11/30\n",
      " - 585s - loss: 2.5090 - acc: 0.3910 - val_loss: 3.9186 - val_acc: 0.3584\n",
      "\n",
      "Epoch 00011: val_loss improved from 4.54901 to 3.91857, saving model to sgdo-10000r-30e-7850t-876v.hdf5\n",
      "Epoch 12/30\n",
      " - 586s - loss: 2.0042 - acc: 0.4437 - val_loss: 3.6671 - val_acc: 0.4064\n",
      "\n",
      "Epoch 00012: val_loss improved from 3.91857 to 3.66714, saving model to sgdo-10000r-30e-7850t-876v.hdf5\n",
      "Epoch 13/30\n",
      " - 587s - loss: 1.6234 - acc: 0.4917 - val_loss: 6.3212 - val_acc: 0.2660\n",
      "\n",
      "Epoch 00013: val_loss did not improve from 3.66714\n",
      "Epoch 14/30\n",
      " - 584s - loss: 1.3368 - acc: 0.5401 - val_loss: 3.6362 - val_acc: 0.4338\n",
      "\n",
      "Epoch 00014: val_loss improved from 3.66714 to 3.63615, saving model to sgdo-10000r-30e-7850t-876v.hdf5\n",
      "Epoch 15/30\n",
      " - 585s - loss: 1.0300 - acc: 0.6043 - val_loss: 3.4498 - val_acc: 0.4658\n",
      "\n",
      "Epoch 00015: val_loss improved from 3.63615 to 3.44977, saving model to sgdo-10000r-30e-7850t-876v.hdf5\n",
      "Epoch 16/30\n",
      " - 589s - loss: 0.8163 - acc: 0.6535 - val_loss: 10.6736 - val_acc: 0.2180\n",
      "\n",
      "Epoch 00016: val_loss did not improve from 3.44977\n",
      "Epoch 17/30\n",
      " - 590s - loss: 0.6892 - acc: 0.6986 - val_loss: 3.8578 - val_acc: 0.5000\n",
      "\n",
      "Epoch 00017: val_loss did not improve from 3.44977\n",
      "Epoch 18/30\n",
      " - 593s - loss: 0.5412 - acc: 0.7450 - val_loss: 4.6566 - val_acc: 0.4235\n",
      "\n",
      "Epoch 00018: val_loss did not improve from 3.44977\n",
      "Epoch 19/30\n",
      " - 592s - loss: 0.4434 - acc: 0.7762 - val_loss: 4.2832 - val_acc: 0.4486\n",
      "\n",
      "Epoch 00019: val_loss did not improve from 3.44977\n",
      "Epoch 20/30\n",
      " - 592s - loss: 0.3396 - acc: 0.8292 - val_loss: 13.6642 - val_acc: 0.3299\n",
      "\n",
      "Epoch 00020: val_loss did not improve from 3.44977\n",
      "Epoch 21/30\n",
      " - 591s - loss: 0.3472 - acc: 0.8340 - val_loss: 3.7840 - val_acc: 0.5228\n",
      "\n",
      "Epoch 00021: val_loss did not improve from 3.44977\n",
      "Epoch 22/30\n",
      " - 597s - loss: 0.2192 - acc: 0.8874 - val_loss: 3.8072 - val_acc: 0.5331\n",
      "\n",
      "Epoch 00022: val_loss did not improve from 3.44977\n",
      "Epoch 23/30\n",
      " - 609s - loss: 0.1718 - acc: 0.9196 - val_loss: 3.9272 - val_acc: 0.5445\n",
      "\n",
      "Epoch 00023: val_loss did not improve from 3.44977\n",
      "Epoch 24/30\n",
      " - 820s - loss: 0.1316 - acc: 0.9413 - val_loss: 3.9587 - val_acc: 0.5434\n",
      "\n",
      "Epoch 00024: val_loss did not improve from 3.44977\n",
      "Epoch 25/30\n",
      " - 781s - loss: 0.1131 - acc: 0.9522 - val_loss: 4.3200 - val_acc: 0.5365\n",
      "\n",
      "Epoch 00025: val_loss did not improve from 3.44977\n",
      "Epoch 26/30\n",
      " - 809s - loss: 0.1050 - acc: 0.9578 - val_loss: 3.8151 - val_acc: 0.5491\n",
      "\n",
      "Epoch 00026: val_loss did not improve from 3.44977\n",
      "Epoch 27/30\n",
      " - 811s - loss: 0.0839 - acc: 0.9725 - val_loss: 4.0704 - val_acc: 0.5331\n",
      "\n",
      "Epoch 00027: val_loss did not improve from 3.44977\n",
      "Epoch 28/30\n",
      " - 828s - loss: 0.0672 - acc: 0.9791 - val_loss: 3.8996 - val_acc: 0.5537\n",
      "\n",
      "Epoch 00028: val_loss did not improve from 3.44977\n",
      "Epoch 29/30\n",
      " - 815s - loss: 0.0527 - acc: 0.9857 - val_loss: 3.8861 - val_acc: 0.5605\n",
      "\n",
      "Epoch 00029: val_loss did not improve from 3.44977\n",
      "Epoch 30/30\n",
      " - 795s - loss: 0.0470 - acc: 0.9889 - val_loss: 3.9610 - val_acc: 0.5685\n",
      "\n",
      "Epoch 00030: val_loss did not improve from 3.44977\n"
     ]
    }
   ],
   "source": [
    "history = model.fit(x=[train_images, train_padded_label, train_input_length, train_label_length],\n",
    "                    y=np.zeros(len(train_images)),\n",
    "                    batch_size=batch_size, \n",
    "                    epochs=epochs, \n",
    "                    validation_data=([valid_images, valid_padded_label, valid_input_length, valid_label_length], [np.zeros(len(valid_images))]),\n",
    "                    verbose=2,\n",
    "                    callbacks=callbacks_list)"
   ]
  },
  {
   "cell_type": "code",
   "execution_count": 63,
   "metadata": {},
   "outputs": [],
   "source": [
    "# load the saved best model weights\n",
    "filepath = \"sgdo-10000r-30e-7850t-876v.hdf5\"\n",
    "act_model.load_weights(filepath)"
   ]
  },
  {
   "cell_type": "code",
   "execution_count": 64,
   "metadata": {},
   "outputs": [
    {
     "name": "stdout",
     "output_type": "stream",
     "text": [
      "original_text =   large\n",
      "predicted text = large"
     ]
    },
    {
     "data": {
      "image/png": "[encoded data removed]",
      "text/plain": [
       "<Figure size 432x288 with 1 Axes>"
      ]
     },
     "metadata": {
      "needs_background": "light"
     },
     "output_type": "display_data"
    },
    {
     "name": "stdout",
     "output_type": "stream",
     "text": [
      "\n",
      "\n",
      "original_text =   majority\n",
      "predicted text = majority"
     ]
    },
    {
     "data": {
      "image/png": "[encoded data removed]",
      "text/plain": [
       "<Figure size 432x288 with 1 Axes>"
      ]
     },
     "metadata": {
      "needs_background": "light"
     },
     "output_type": "display_data"
    },
    {
     "name": "stdout",
     "output_type": "stream",
     "text": [
      "\n",
      "\n",
      "original_text =   of\n",
      "predicted text = af"
     ]
    },
    {
     "data": {
      "image/png": "[encoded data removed]",
      "text/plain": [
       "<Figure size 432x288 with 1 Axes>"
      ]
     },
     "metadata": {
      "needs_background": "light"
     },
     "output_type": "display_data"
    },
    {
     "name": "stdout",
     "output_type": "stream",
     "text": [
      "\n",
      "\n",
      "original_text =   Labour\n",
      "predicted text = Labour"
     ]
    },
    {
     "data": {
      "image/png": "[encoded data removed]",
      "text/plain": [
       "<Figure size 432x288 with 1 Axes>"
      ]
     },
     "metadata": {
      "needs_background": "light"
     },
     "output_type": "display_data"
    },
    {
     "name": "stdout",
     "output_type": "stream",
     "text": [
      "\n",
      "\n",
      "original_text =   MPs\n",
      "predicted text = MPs"
     ]
    },
    {
     "data": {
      "image/png": "[encoded data removed]",
      "text/plain": [
       "<Figure size 432x288 with 1 Axes>"
      ]
     },
     "metadata": {
      "needs_background": "light"
     },
     "output_type": "display_data"
    },
    {
     "name": "stdout",
     "output_type": "stream",
     "text": [
      "\n",
      "\n",
      "original_text =   are\n",
      "predicted text = are"
     ]
    },
    {
     "data": {
      "image/png": "[encoded data removed]",
      "text/plain": [
       "<Figure size 432x288 with 1 Axes>"
      ]
     },
     "metadata": {
      "needs_background": "light"
     },
     "output_type": "display_data"
    },
    {
     "name": "stdout",
     "output_type": "stream",
     "text": [
      "\n",
      "\n",
      "original_text =   to\n",
      "predicted text = to"
     ]
    },
    {
     "data": {
      "image/png": "[encoded data removed]",
      "text/plain": [
       "<Figure size 432x288 with 1 Axes>"
      ]
     },
     "metadata": {
      "needs_background": "light"
     },
     "output_type": "display_data"
    },
    {
     "name": "stdout",
     "output_type": "stream",
     "text": [
      "\n",
      "\n",
      "original_text =   turn\n",
      "predicted text = trn"
     ]
    },
    {
     "data": {
      "image/png": "[encoded data removed]",
      "text/plain": [
       "<Figure size 432x288 with 1 Axes>"
      ]
     },
     "metadata": {
      "needs_background": "light"
     },
     "output_type": "display_data"
    },
    {
     "name": "stdout",
     "output_type": "stream",
     "text": [
      "\n",
      "\n",
      "original_text =   down\n",
      "predicted text = down"
     ]
    },
    {
     "data": {
      "image/png": "[encoded data removed]",
      "text/plain": [
       "<Figure size 432x288 with 1 Axes>"
      ]
     },
     "metadata": {
      "needs_background": "light"
     },
     "output_type": "display_data"
    },
    {
     "name": "stdout",
     "output_type": "stream",
     "text": [
      "\n",
      "\n",
      "original_text =   the\n",
      "predicted text = the"
     ]
    },
    {
     "data": {
      "image/png": "[encoded data removed]",
      "text/plain": [
       "<Figure size 432x288 with 1 Axes>"
      ]
     },
     "metadata": {
      "needs_background": "light"
     },
     "output_type": "display_data"
    },
    {
     "name": "stdout",
     "output_type": "stream",
     "text": [
      "\n",
      "\n",
      "original_text =   Foot-\n",
      "predicted text = Foot-"
     ]
    },
    {
     "data": {
      "image/png": "[encoded data removed]",
      "text/plain": [
       "<Figure size 432x288 with 1 Axes>"
      ]
     },
     "metadata": {
      "needs_background": "light"
     },
     "output_type": "display_data"
    },
    {
     "name": "stdout",
     "output_type": "stream",
     "text": [
      "\n",
      "\n",
      "original_text =   be\n",
      "predicted text = be"
     ]
    },
    {
     "data": {
      "image/png": "[encoded data removed]",
      "text/plain": [
       "<Figure size 432x288 with 1 Axes>"
      ]
     },
     "metadata": {
      "needs_background": "light"
     },
     "output_type": "display_data"
    },
    {
     "name": "stdout",
     "output_type": "stream",
     "text": [
      "\n",
      "\n",
      "original_text =   that\n",
      "predicted text = that"
     ]
    },
    {
     "data": {
      "image/png": "[encoded data removed]",
      "text/plain": [
       "<Figure size 432x288 with 1 Axes>"
      ]
     },
     "metadata": {
      "needs_background": "light"
     },
     "output_type": "display_data"
    },
    {
     "name": "stdout",
     "output_type": "stream",
     "text": [
      "\n",
      "\n",
      "original_text =   as\n",
      "predicted text = as"
     ]
    },
    {
     "data": {
      "image/png": "[encoded data removed]",
      "text/plain": [
       "<Figure size 432x288 with 1 Axes>"
      ]
     },
     "metadata": {
      "needs_background": "light"
     },
     "output_type": "display_data"
    },
    {
     "name": "stdout",
     "output_type": "stream",
     "text": [
      "\n",
      "\n",
      "original_text =   Labour\n",
      "predicted text = Labouur"
     ]
    },
    {
     "data": {
      "image/png": "[encoded data removed]",
      "text/plain": [
       "<Figure size 432x288 with 1 Axes>"
      ]
     },
     "metadata": {
      "needs_background": "light"
     },
     "output_type": "display_data"
    },
    {
     "name": "stdout",
     "output_type": "stream",
     "text": [
      "\n",
      "\n",
      "original_text =   MPs\n",
      "predicted text = MPs"
     ]
    },
    {
     "data": {
      "image/png": "[encoded data removed]",
      "text/plain": [
       "<Figure size 432x288 with 1 Axes>"
      ]
     },
     "metadata": {
      "needs_background": "light"
     },
     "output_type": "display_data"
    },
    {
     "name": "stdout",
     "output_type": "stream",
     "text": [
      "\n",
      "\n",
      "original_text =   opposed\n",
      "predicted text = opposed"
     ]
    },
    {
     "data": {
      "image/png": "[encoded data removed]",
      "text/plain": [
       "<Figure size 432x288 with 1 Axes>"
      ]
     },
     "metadata": {
      "needs_background": "light"
     },
     "output_type": "display_data"
    },
    {
     "name": "stdout",
     "output_type": "stream",
     "text": [
      "\n",
      "\n",
      "original_text =   the\n",
      "predicted text = the"
     ]
    },
    {
     "data": {
      "image/png": "[encoded data removed]",
      "text/plain": [
       "<Figure size 432x288 with 1 Axes>"
      ]
     },
     "metadata": {
      "needs_background": "light"
     },
     "output_type": "display_data"
    },
    {
     "name": "stdout",
     "output_type": "stream",
     "text": [
      "\n",
      "\n",
      "original_text =   Bill\n",
      "predicted text = Bill"
     ]
    },
    {
     "data": {
      "image/png": "[encoded data removed]",
      "text/plain": [
       "<Figure size 432x288 with 1 Axes>"
      ]
     },
     "metadata": {
      "needs_background": "light"
     },
     "output_type": "display_data"
    },
    {
     "name": "stdout",
     "output_type": "stream",
     "text": [
      "\n",
      "\n",
      "original_text =   which\n",
      "predicted text = which"
     ]
    },
    {
     "data": {
      "image/png": "[encoded data removed]",
      "text/plain": [
       "<Figure size 432x288 with 1 Axes>"
      ]
     },
     "metadata": {
      "needs_background": "light"
     },
     "output_type": "display_data"
    },
    {
     "name": "stdout",
     "output_type": "stream",
     "text": [
      "\n",
      "\n"
     ]
    }
   ],
   "source": [
    "prediction = act_model.predict(train_images[150:170])\n",
    " \n",
    "# use CTC decoder\n",
    "decoded = K.ctc_decode(prediction,   \n",
    "                       input_length=np.ones(prediction.shape[0]) * prediction.shape[1],\n",
    "                       greedy=True)[0][0]\n",
    "\n",
    "out = K.get_value(decoded)\n",
    "# see the results\n",
    "for i, x in enumerate(out):\n",
    "    print(\"original_text =  \", train_original_text[150+i])\n",
    "    print(\"predicted text = \", end = '')\n",
    "    for p in x:\n",
    "        if int(p) != -1:\n",
    "            print(char_list[int(p)], end = '')\n",
    "    plt.imshow(train_images[150+i].reshape(32,128), cmap=plt.cm.gray)\n",
    "    plt.show()\n",
    "    print('\\n')"
   ]
  },
  {
   "cell_type": "code",
   "execution_count": 65,
   "metadata": {},
   "outputs": [],
   "source": [
    "import os\n",
    "import math\n",
    "import cv2\n",
    "import numpy as np\n",
    "\n",
    "\n",
    "def wordSegmentation(img, kernelSize=25, sigma=11, theta=7, minArea=0):\n",
    "\t\"\"\"Scale space technique for word segmentation proposed by R. Manmatha: http://ciir.cs.umass.edu/pubfiles/mm-27.pdf\n",
    "\t\n",
    "\tArgs:\n",
    "\t\timg: grayscale uint8 image of the text-line to be segmented.\n",
    "\t\tkernelSize: size of filter kernel, must be an odd integer.\n",
    "\t\tsigma: standard deviation of Gaussian function used for filter kernel.\n",
    "\t\ttheta: approximated width/height ratio of words, filter function is distorted by this factor.\n",
    "\t\tminArea: ignore word candidates smaller than specified area.\n",
    "\t\t\n",
    "\tReturns:\n",
    "\t\tList of tuples. Each tuple contains the bounding box and the image of the segmented word.\n",
    "\t\"\"\"\n",
    "\n",
    "\t# apply filter kernel\n",
    "\tkernel = createKernel(kernelSize, sigma, theta)\n",
    "\timgFiltered = cv2.filter2D(img, -1, kernel, borderType=cv2.BORDER_REPLICATE).astype(np.uint8)\n",
    "\t(_, imgThres) = cv2.threshold(imgFiltered, 0, 255, cv2.THRESH_BINARY+cv2.THRESH_OTSU)\n",
    "\timgThres = 255 - imgThres\n",
    "\n",
    "\t# find connected components. OpenCV: return type differs between OpenCV2 and 3\n",
    "\tif cv2.__version__.startswith('3.'):\n",
    "\t\t(_, components, _) = cv2.findContours(imgThres, cv2.RETR_EXTERNAL, cv2.CHAIN_APPROX_SIMPLE)\n",
    "\telse:\n",
    "\t\t(components, _) = cv2.findContours(imgThres, cv2.RETR_LIST, cv2.CHAIN_APPROX_SIMPLE)\n",
    "\n",
    "\t# append components to result\n",
    "\tres = []\n",
    "\tfor c in components:\n",
    "\t\t# skip small word candidates\n",
    "\t\tif cv2.contourArea(c) < minArea:\n",
    "\t\t\tcontinue\n",
    "\t\t# append bounding box and image of word to result list\n",
    "\t\tcurrBox = cv2.boundingRect(c) # returns (x, y, w, h)\n",
    "\t\t(x, y, w, h) = currBox\n",
    "\t\tcurrImg = img[y:y+h, x:x+w]\n",
    "\t\tres.append((currBox, currImg))\n",
    "\n",
    "\t# return list of words, sorted by x-coordinate\n",
    "\treturn sorted(res, key=lambda entry:entry[0][0])\n",
    "\n",
    "\n",
    "def prepareImg(img, height):\n",
    "\t\"\"\"convert given image to grayscale image (if needed) and resize to desired height\"\"\"\n",
    "\tassert img.ndim in (2, 3)\n",
    "\tif img.ndim == 3:\n",
    "\t\timg = cv2.cvtColor(img, cv2.COLOR_BGR2GRAY)\n",
    "\th = img.shape[0]\n",
    "\tfactor = height / h\n",
    "\treturn cv2.resize(img, dsize=None, fx=factor, fy=factor)\n",
    "\n",
    "\n",
    "def createKernel(kernelSize, sigma, theta):\n",
    "\t\"\"\"create anisotropic filter kernel according to given parameters\"\"\"\n",
    "\tassert kernelSize % 2 # must be odd size\n",
    "\thalfSize = kernelSize // 2\n",
    "\t\n",
    "\tkernel = np.zeros([kernelSize, kernelSize])\n",
    "\tsigmaX = sigma\n",
    "\tsigmaY = sigma * theta\n",
    "\t\n",
    "\tfor i in range(kernelSize):\n",
    "\t\tfor j in range(kernelSize):\n",
    "\t\t\tx = i - halfSize\n",
    "\t\t\ty = j - halfSize\n",
    "\t\t\t\n",
    "\t\t\texpTerm = np.exp(-x**2 / (2 * sigmaX) - y**2 / (2 * sigmaY))\n",
    "\t\t\txTerm = (x**2 - sigmaX**2) / (2 * math.pi * sigmaX**5 * sigmaY)\n",
    "\t\t\tyTerm = (y**2 - sigmaY**2) / (2 * math.pi * sigmaY**5 * sigmaX)\n",
    "\t\t\t\n",
    "\t\t\tkernel[i, j] = (xTerm + yTerm) * expTerm\n",
    "\n",
    "\tkernel = kernel / np.sum(kernel)\n",
    "\treturn kernel\n"
   ]
  },
  {
   "cell_type": "code",
   "execution_count": 66,
   "metadata": {},
   "outputs": [
    {
     "name": "stdout",
     "output_type": "stream",
     "text": [
      "Segmented into 7 words\n"
     ]
    }
   ],
   "source": [
    "def main():\n",
    "\t\"\"\"reads images from data/ and outputs the word-segmentation to out/\"\"\"\n",
    "\n",
    "\t# read input images from 'in' directory\n",
    "\t#imgFiles = os.listdir('C:\\\\Users\\\\vibhu\\\\OneDrive\\\\Desktop\\\\TCS ion\\\\data\\\\lines\\\\a01\\\\a01-000u')\n",
    "\t#for (i,f) in enumerate(imgFiles):\n",
    "\t\t#print('Segmenting words of sample %s'%f)\n",
    "\t\t\n",
    "\t\t# read image, prepare it by resizing it to fixed height and converting it to grayscale\n",
    "\timg = prepareImg(cv2.imread('C:\\\\Users\\\\vibhu\\\\OneDrive\\\\Desktop\\\\TCS ion\\\\data\\\\lines\\\\a01\\\\a01-000u\\\\a01-000u-00.png'), 50)\n",
    "\t\t\n",
    "\t\t# execute segmentation with given parameters\n",
    "\t\t# -kernelSize: size of filter kernel (odd integer)\n",
    "\t\t# -sigma: standard deviation of Gaussian function used for filter kernel\n",
    "\t\t# -theta: approximated width/height ratio of words, filter function is distorted by this factor\n",
    "\t\t# - minArea: ignore word candidates smaller than specified area\n",
    "\tres = wordSegmentation(img, kernelSize=25, sigma=11, theta=7, minArea=100)\n",
    "\t\t\n",
    "\t\t# write output to 'out/inputFileName' directory\n",
    "\t\t#if not os.path.exists('C:\\\\Users\\\\vibhu\\\\OneDrive\\\\Desktop\\\\TCS ion\\\\data\\\\lines\\\\a01\\\\a01-000u\\\\out\\\\'+f):\n",
    "\t\t\t#os.mkdir('C:\\\\Users\\\\vibhu\\\\OneDrive\\\\Desktop\\\\TCS ion\\\\data\\\\lines\\\\a01\\\\a01-000u\\\\out\\\\' + f)\n",
    "\t\t\n",
    "\t\t# iterate over all segmented words\n",
    "\tprint('Segmented into %d words'%len(res))\n",
    "\tfor (j, w) in enumerate(res):\n",
    "\t\t(wordBox, wordImg) = w\n",
    "\t\t(x, y, w, h) = wordBox\n",
    "\t\tcv2.imwrite('C:\\\\Users\\\\vibhu\\\\OneDrive\\\\Desktop\\\\TCS ion\\\\data\\\\lines\\\\a01\\\\a01-000u\\\\%d.png'%(j), wordImg) # save word\n",
    "\t\tcv2.rectangle(img,(x,y),(x+w,y+h),0,1) # draw bounding box in summary image\n",
    "\t\t\n",
    "\t\t# output summary image with bounding boxes around words\n",
    "\t\t#cv2.imwrite('../out/%s/summary.png'%f, img)\n",
    "\n",
    "\n",
    "if __name__ == '__main__':\n",
    "\tmain()"
   ]
  },
  {
   "cell_type": "code",
   "execution_count": 121,
   "metadata": {},
   "outputs": [],
   "source": [
    "filepath=\"sgdo-10000r-30e-7850t-876v.hdf5\""
   ]
  },
  {
   "cell_type": "code",
   "execution_count": 122,
   "metadata": {},
   "outputs": [],
   "source": [
    "act_model.load_weights(filepath)"
   ]
  },
  {
   "cell_type": "code",
   "execution_count": 123,
   "metadata": {},
   "outputs": [
    {
     "name": "stdout",
     "output_type": "stream",
     "text": [
      "Original Sentence = A move to stop Mr. Gaitskell from\n",
      "Predicted Sentence =  . M0E s 3r r Gaitskell fromn\n"
     ]
    },
    {
     "data": {
      "image/png": "[encoded data removed]",
      "text/plain": [
       "<Figure size 432x288 with 1 Axes>"
      ]
     },
     "metadata": {
      "needs_background": "light"
     },
     "output_type": "display_data"
    }
   ],
   "source": [
    "import glob\n",
    "testpredict = []\n",
    "for filename in glob.glob(\"C:\\\\Users\\\\vibhu\\\\OneDrive\\\\Desktop\\\\TCS ion\\\\data\\\\lines\\\\a01\\\\a01-000u\\\\out/*.png\"):\n",
    "    img = cv2.imread(filename)\n",
    "    a = img.shape[0]\n",
    "    b = img.shape[1]*img.shape[2]\n",
    "    img.resize(a,b)\n",
    "    img = process_image(img)\n",
    "    testpredict.append(img)\n",
    "    #print(img.shape)\n",
    "testpredict = np.asarray(testpredict)\n",
    "prediction = act_model.predict(testpredict)\n",
    " \n",
    "# use CTC decoder\n",
    "decoded = K.ctc_decode(prediction,   \n",
    "                       input_length=np.ones(prediction.shape[0]) * prediction.shape[1],\n",
    "                       greedy=True)[0][0]\n",
    "\n",
    "out = K.get_value(decoded)\n",
    "# see the results\n",
    "l2 = []\n",
    "for i, x in enumerate(out):\n",
    "    l1 = []\n",
    "    for p in x:\n",
    "        if int(p) != -1:\n",
    "            l1.append(char_list[int(p)])\n",
    "    l2.append(''.join(l1))   \n",
    "im = cv2.imread(\"C:\\\\Users\\\\vibhu\\\\OneDrive\\\\Desktop\\\\TCS ion\\\\data\\\\lines\\\\a01\\\\a01-000u\\\\a01-000u-00.png\")\n",
    "plt.imshow(im)\n",
    "print(\"Original Sentence = A move to stop Mr. Gaitskell from\")\n",
    "print(\"Predicted Sentence =  \"+' '.join(l2))\n"
   ]
  }
 ],
 "metadata": {
  "kernelspec": {
   "display_name": "Python 3",
   "language": "python",
   "name": "python3"
  },
  "language_info": {
   "codemirror_mode": {
    "name": "ipython",
    "version": 3
   },
   "file_extension": ".py",
   "mimetype": "text/x-python",
   "name": "python",
   "nbconvert_exporter": "python",
   "pygments_lexer": "ipython3",
   "version": "3.7.3"
  }
 },
 "nbformat": 4,
 "nbformat_minor": 2
}
